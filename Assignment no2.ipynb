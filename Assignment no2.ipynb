{
 "cells": [
  {
   "cell_type": "markdown",
   "id": "69cfe887-7afc-4cb9-b35c-c2fb9e7cd37a",
   "metadata": {},
   "source": [
    "Q1. How do you comment code in Python? What are the different types of comments?"
   ]
  },
  {
   "cell_type": "markdown",
   "id": "77576cfc-509d-49ab-af0a-2079256ef706",
   "metadata": {},
   "source": [
    "#there are two types of comment\n",
    "1. single line comment \n",
    "2. Multi line comment\n",
    "ex. #single line\n",
    "\"\"\"\n",
    "Multi\n",
    "line\n",
    "comment\n",
    "\"\"\"\n"
   ]
  },
  {
   "cell_type": "markdown",
   "id": "9f3c9e03-a362-4147-8840-4ca4933d51ad",
   "metadata": {},
   "source": [
    "Q2. What are variables in Python? How do you declare and assign values to variables?"
   ]
  },
  {
   "cell_type": "code",
   "execution_count": 2,
   "id": "775b350d-f0c7-46f7-884e-25fdc812aae7",
   "metadata": {},
   "outputs": [],
   "source": [
    "#variable is a assigned memory in which we store values\n",
    "a=25"
   ]
  },
  {
   "cell_type": "markdown",
   "id": "6fb7a0a0-a911-4d18-993a-1fa0c8521fd5",
   "metadata": {},
   "source": [
    "Q3. How do you convert one data type to another in Python?"
   ]
  },
  {
   "cell_type": "markdown",
   "id": "7d2afb5f-eccd-491f-8323-374309454e7d",
   "metadata": {},
   "source": [
    "Q4. How do you write and execute a Python script from the command line?"
   ]
  },
  {
   "cell_type": "markdown",
   "id": "458cf685-a05a-4794-b468-e7ccd8ce0794",
   "metadata": {},
   "source": [
    "Q5. Given a list my_list = [1, 2, 3, 4, 5], write the code to slice the list and obtain the sub-list [2, 3]."
   ]
  },
  {
   "cell_type": "code",
   "execution_count": 5,
   "id": "dff24b8e-5425-42df-b227-cbd61a813ba3",
   "metadata": {},
   "outputs": [
    {
     "data": {
      "text/plain": [
       "[2, 3]"
      ]
     },
     "execution_count": 5,
     "metadata": {},
     "output_type": "execute_result"
    }
   ],
   "source": [
    "my_list = [1,2,3,4,5]\n",
    "my_list[1:3]\n"
   ]
  },
  {
   "cell_type": "markdown",
   "id": "da758832-0892-4ac4-8dfa-5acc38cf6b97",
   "metadata": {},
   "source": [
    "Q6. What is a complex number in mathematics, and how is it represented in Python?"
   ]
  },
  {
   "cell_type": "markdown",
   "id": "d8fc658d-4be0-42e3-b652-5535ea366e4d",
   "metadata": {},
   "source": [
    "z = 2+3j\n",
    "here, 2 is a real part and 3j is a imaginary part"
   ]
  },
  {
   "cell_type": "markdown",
   "id": "ed50fd20-b172-4082-b18f-d0992bb4fa50",
   "metadata": {},
   "source": [
    "Q7. What is the correct way to declare a variable named age and assign the value 25 to it?"
   ]
  },
  {
   "cell_type": "code",
   "execution_count": 6,
   "id": "7615a3eb-8546-4bef-9b1f-ba8b8bc64d51",
   "metadata": {},
   "outputs": [],
   "source": [
    "age = 25"
   ]
  },
  {
   "cell_type": "markdown",
   "id": "7da4b04d-2aa2-4ca4-b648-96203ba52f5a",
   "metadata": {},
   "source": [
    "Q8. Declare a variable named price and assign the value 9.99 to it. What data type does this variable belong to?"
   ]
  },
  {
   "cell_type": "code",
   "execution_count": 7,
   "id": "81894e46-344e-4ae6-8fec-b24045210a08",
   "metadata": {},
   "outputs": [
    {
     "name": "stdout",
     "output_type": "stream",
     "text": [
      "<class 'float'>\n"
     ]
    }
   ],
   "source": [
    "price=9.99\n",
    "print(type(price))"
   ]
  },
  {
   "cell_type": "markdown",
   "id": "ad1d565c-24d7-4dea-b2ba-70c2e8e240eb",
   "metadata": {},
   "source": [
    "Q9. Create a variable named name and assign your full name to it as a string. How would you print the value of this variable?"
   ]
  },
  {
   "cell_type": "code",
   "execution_count": 8,
   "id": "79c9c9c2-89e0-4d81-8fd7-44e5cf515c8c",
   "metadata": {},
   "outputs": [
    {
     "name": "stdout",
     "output_type": "stream",
     "text": [
      "Sameeksha\n"
     ]
    }
   ],
   "source": [
    "name = \"Sameeksha\"\n",
    "print(name)"
   ]
  },
  {
   "cell_type": "markdown",
   "id": "b05ef94a-c9d4-40e7-9d2d-7436fcb5edfd",
   "metadata": {},
   "source": [
    "Q10. Given the string \"Hello, World!\", extract the substring \"World\"."
   ]
  },
  {
   "cell_type": "code",
   "execution_count": 12,
   "id": "64a30dc2-ff3e-4148-a83b-c4e0fdf2e60b",
   "metadata": {},
   "outputs": [
    {
     "data": {
      "text/plain": [
       "'World!'"
      ]
     },
     "execution_count": 12,
     "metadata": {},
     "output_type": "execute_result"
    }
   ],
   "source": [
    "str = \"Hello,World!\"\n",
    "str[6:12]"
   ]
  },
  {
   "cell_type": "markdown",
   "id": "684b5a1b-2562-40df-bdd1-592250fd644d",
   "metadata": {},
   "source": [
    "Q11. Create a variable named \"is_student\" and assign it a boolean value indicating whether you are\n",
    "currently a student or not."
   ]
  },
  {
   "cell_type": "code",
   "execution_count": null,
   "id": "a799023f-4119-4b37-9f77-7372d0008c06",
   "metadata": {},
   "outputs": [],
   "source": [
    "is_student = True"
   ]
  }
 ],
 "metadata": {
  "kernelspec": {
   "display_name": "Python 3 (ipykernel)",
   "language": "python",
   "name": "python3"
  },
  "language_info": {
   "codemirror_mode": {
    "name": "ipython",
    "version": 3
   },
   "file_extension": ".py",
   "mimetype": "text/x-python",
   "name": "python",
   "nbconvert_exporter": "python",
   "pygments_lexer": "ipython3",
   "version": "3.10.8"
  }
 },
 "nbformat": 4,
 "nbformat_minor": 5
}
