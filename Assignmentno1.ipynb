{
 "cells": [
  {
   "cell_type": "code",
   "execution_count": 1,
   "id": "61dac9ba-3121-45a5-bdfa-3f7bb005bab2",
   "metadata": {},
   "outputs": [],
   "source": [
    "#Question1\n",
    "\n",
    "a=\"samiksha\"\n",
    "b=[\"abc\",4,5]\n",
    "c=9.8\n",
    "d=(\"samiksha\" ,\"pratiksha\")\n"
   ]
  },
  {
   "cell_type": "code",
   "execution_count": 7,
   "id": "525a9db1-591c-4c50-bf9c-e2b5a09336f0",
   "metadata": {},
   "outputs": [
    {
     "name": "stdout",
     "output_type": "stream",
     "text": [
      "samiksha\n",
      "<class 'str'>\n",
      "1\n",
      "<class 'int'>\n",
      "23\n",
      "<class 'int'>\n",
      "9.8\n",
      "<class 'float'>\n",
      "abc\n",
      "<class 'str'>\n"
     ]
    }
   ],
   "source": [
    "#question4\n",
    "my_list=[\"samiksha\",1,23,9.8,\"abc\"]\n",
    "for i in my_list:\n",
    "    print(i)\n",
    "    print(type(i))\n",
    "    \n"
   ]
  },
  {
   "cell_type": "code",
   "execution_count": 10,
   "id": "3611e16d-cc82-40b0-88bd-06e19f6824f8",
   "metadata": {},
   "outputs": [
    {
     "name": "stdin",
     "output_type": "stream",
     "text": [
      "Enter number A:  100\n",
      "Enter number B:  2\n"
     ]
    },
    {
     "name": "stdout",
     "output_type": "stream",
     "text": [
      "Number A is divisible by number B 2 times.\n"
     ]
    }
   ],
   "source": [
    "#question5\n",
    "A = int(input(\"Enter number A: \"))\n",
    "B = int(input(\"Enter number B: \"))\n",
    "\n",
    "count = 0  \n",
    "\n",
    "while A % B == 0:\n",
    "    A = A / B\n",
    "    count += 1\n",
    "\n",
    "if count > 0:\n",
    "    print(f\"Number A is divisible by number B {count} times.\")\n",
    "else:\n",
    "    print(\"Number A is not divisible by number B.\")"
   ]
  },
  {
   "cell_type": "code",
   "execution_count": 11,
   "id": "35521596-da17-4616-af1b-6906ce404969",
   "metadata": {},
   "outputs": [
    {
     "name": "stdout",
     "output_type": "stream",
     "text": [
      " not divisible by 3\n",
      " not divisible by 3\n",
      "divisible by 3\n",
      " not divisible by 3\n",
      " not divisible by 3\n",
      "divisible by 3\n",
      " not divisible by 3\n",
      " not divisible by 3\n",
      "divisible by 3\n",
      " not divisible by 3\n",
      " not divisible by 3\n",
      "divisible by 3\n",
      " not divisible by 3\n",
      " not divisible by 3\n",
      "divisible by 3\n",
      " not divisible by 3\n",
      " not divisible by 3\n",
      "divisible by 3\n",
      " not divisible by 3\n",
      " not divisible by 3\n",
      "divisible by 3\n",
      " not divisible by 3\n",
      " not divisible by 3\n",
      "divisible by 3\n",
      " not divisible by 3\n"
     ]
    }
   ],
   "source": [
    "#question6\n",
    "\n",
    "my_list = [1, 2,3,4,5,6,7,8,9,10,11,12,13,14,15,16,17,18,19,20,21,22,23,24,25]\n",
    "\n",
    "\n",
    "for num in my_list:\n",
    "    if num % 3 == 0:\n",
    "        print( \"divisible by 3\")\n",
    "    else:\n",
    "        print(\" not divisible by 3\")\n"
   ]
  },
  {
   "cell_type": "code",
   "execution_count": 13,
   "id": "010eb81f-62f2-48cf-917d-7a29db51db00",
   "metadata": {},
   "outputs": [
    {
     "name": "stdout",
     "output_type": "stream",
     "text": [
      "[1, 2, 3, 4]\n",
      "Hello World\n"
     ]
    }
   ],
   "source": [
    "#question7\n",
    "\"\"\"\n",
    "mutable objects: Mutable objects are those whose state or contents can be modified after creation.\n",
    "immutable object: immutable objects are those whose state cannot be changed after creation.\n",
    "\"\"\"\n",
    "\n",
    "\n",
    "my_list = [1, 2, 3]\n",
    "my_list.append(4)\n",
    "print(my_list)  \n",
    "\n",
    "\n",
    "my_string = \"Hello\"\n",
    "new_string = my_string + \" World\"\n",
    "print(new_string)  \n"
   ]
  },
  {
   "cell_type": "code",
   "execution_count": 15,
   "id": "042e1c9f-9448-4fc4-8492-8446204aeb1c",
   "metadata": {},
   "outputs": [
    {
     "data": {
      "text/plain": [
       "'\\nQ2. Given are some following variables containing data:\\n\\n(i)\\tvar1 = ‘ ‘: string\\n\\n(ii)\\tvar2 = ‘[ DS , ML , Python]’:list\\n\\n(iii)\\tvar3 = [ ‘DS’ , ’ML’ , ‘Python’ ]:list\\n\\n(iv)\\tvar4 = 1.:int\\n'"
      ]
     },
     "execution_count": 15,
     "metadata": {},
     "output_type": "execute_result"
    }
   ],
   "source": [
    "\n",
    "#question2\n",
    "\"\"\"\n",
    "Q2. Given are some following variables containing data:\n",
    "\n",
    "(i)\tvar1 = ‘ ‘: string\n",
    "\n",
    "(ii)\tvar2 = ‘[ DS , ML , Python]’:list\n",
    "\n",
    "(iii)\tvar3 = [ ‘DS’ , ’ML’ , ‘Python’ ]:list\n",
    "\n",
    "(iv)\tvar4 = 1.:int\n",
    "\"\"\""
   ]
  },
  {
   "cell_type": "code",
   "execution_count": 18,
   "id": "c01617d6-ad5b-42b0-acf6-adf6e06438cc",
   "metadata": {},
   "outputs": [
    {
     "name": "stdout",
     "output_type": "stream",
     "text": [
      "5.0\n",
      "0\n",
      "5\n",
      "100\n"
     ]
    }
   ],
   "source": [
    "#question3\n",
    "a=10\n",
    "b=2\n",
    "c=a/b\n",
    "d=a%b\n",
    "e=a//b\n",
    "f=a**b\n",
    "print(c)\n",
    "print(d)\n",
    "print(e)\n",
    "print(f)"
   ]
  },
  {
   "cell_type": "code",
   "execution_count": null,
   "id": "86035c6b-2fc4-40ea-b6ab-cc3584e47765",
   "metadata": {},
   "outputs": [],
   "source": []
  }
 ],
 "metadata": {
  "kernelspec": {
   "display_name": "Python 3 (ipykernel)",
   "language": "python",
   "name": "python3"
  },
  "language_info": {
   "codemirror_mode": {
    "name": "ipython",
    "version": 3
   },
   "file_extension": ".py",
   "mimetype": "text/x-python",
   "name": "python",
   "nbconvert_exporter": "python",
   "pygments_lexer": "ipython3",
   "version": "3.10.8"
  }
 },
 "nbformat": 4,
 "nbformat_minor": 5
}
